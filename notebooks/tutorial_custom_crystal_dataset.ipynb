{
 "cells": [
  {
   "cell_type": "markdown",
   "id": "9869d1b7",
   "metadata": {},
   "source": [
    "# Crystal Dataset"
   ]
  },
  {
   "cell_type": "code",
   "execution_count": 1,
   "id": "3f012f9b",
   "metadata": {},
   "outputs": [],
   "source": [
    "import pymatgen\n",
    "import pymatgen.core.structure\n",
    "import numpy as np\n",
    "import os"
   ]
  },
  {
   "cell_type": "markdown",
   "id": "5af55431",
   "metadata": {},
   "source": [
    "Prepare some test data."
   ]
  },
  {
   "cell_type": "code",
   "execution_count": 2,
   "id": "e52f2cb3",
   "metadata": {},
   "outputs": [],
   "source": [
    "test_data = [\n",
    "    pymatgen.core.Structure(lattice=np.array([[4.34157255, 0., 2.50660808], [1.44719085, 4.09327385, 2.50660808], [0., 0., 5.01321616]]), species=[\"Te\", \"Ba\"], coords=np.array([[0.5, 0.5, 0.5], [0. , 0. , 0. ]])),\n",
    "    pymatgen.core.Structure(lattice=np.array([[2.95117784, 0., 1.70386332], [0.98372595, 2.78239715, 1.70386332], [0., 0., 3.40772664]]), species=[\"B\", \"As\"], coords=np.array([[0.25, 0.25, 0.25], [0. , 0. , 0. ]])),\n",
    "    pymatgen.core.Structure(lattice=np.array([[4.3015, 0., 0.],[-2.15075, 3.725208, 0.], [0., 0., 5.2703]]), species=[\"Ba\", \"Ga\", \"Si\", \"H\"], coords=np.array([[0., 0., 0.],[0.6666, 0.3333, 0.5423], [0.3334, 0.6667, 0.4555], [0.6666, 0.3333, 0.8759]])),\n",
    "]\n",
    "os.makedirs(\"ExampleCrystal\", exist_ok=True)\n",
    "os.makedirs(\"ExampleCrystal/CifFiles\", exist_ok=True)\n",
    "for i, x in enumerate(test_data):\n",
    "    x.to(filename=\"ExampleCrystal/CifFiles/file_%s.cif\" % i, fmt=\"cif\")\n",
    "csv_data = \"\".join([\n",
    "    \"file_name,index,label\\n\",  # Need header!\n",
    "    \"file_0.cif, 0, 98.58577122703691\\n\",\n",
    "    \"file_1.cif, 1, 701.5857233477558\\n\",\n",
    "    \"file_2.cif, 2, 1138.5856886491724\"\n",
    "])\n",
    "with open(\"ExampleCrystal/data.csv\", \"w\") as f:\n",
    "    f.write(csv_data)"
   ]
  },
  {
   "cell_type": "markdown",
   "id": "5d972eb6",
   "metadata": {},
   "source": [
    "### 0. Crystal dataset\n",
    "\n",
    "Data is organized like:\n",
    "\n",
    " ```bash\n",
    " ├── data_directory\n",
    "    ├── file_directory\n",
    "    │   ├── *.cif\n",
    "    │   ├── *.cif\n",
    "    │   └── ...\n",
    "    ├── file_name.csv\n",
    "    └── file_name.pymatgen.json\n",
    " ```"
   ]
  },
  {
   "cell_type": "code",
   "execution_count": 3,
   "id": "3ae7d2c3",
   "metadata": {},
   "outputs": [],
   "source": [
    "from kgcnn.data.crystal import CrystalDataset"
   ]
  },
  {
   "cell_type": "code",
   "execution_count": 4,
   "id": "1fe66910",
   "metadata": {},
   "outputs": [],
   "source": [
    "dataset = CrystalDataset(\n",
    "    data_directory=\"ExampleCrystal/\", \n",
    "    dataset_name=\"ExampleCrystal\", \n",
    "    file_name=\"data.csv\", \n",
    "    file_directory=\"CifFiles\"\n",
    ")"
   ]
  },
  {
   "cell_type": "markdown",
   "id": "42832256",
   "metadata": {},
   "source": [
    "### 1. Generate a json-serialized list of structures via `prepare_data`"
   ]
  },
  {
   "cell_type": "code",
   "execution_count": 5,
   "id": "3632bba5",
   "metadata": {},
   "outputs": [
    {
     "name": "stderr",
     "output_type": "stream",
     "text": [
      "INFO:kgcnn.data.ExampleCrystal:Searching for structure files in 'ExampleCrystal/CifFiles'\n",
      "INFO:kgcnn.data.ExampleCrystal:Read 3 single files.\n",
      "INFO:kgcnn.data.ExampleCrystal:... Read .cif file 0 from 3\n",
      "C:\\Users\\patri\\anaconda3\\envs\\gcnn_keras_test\\lib\\site-packages\\pymatgen\\io\\cif.py:1153: UserWarning: Issues encountered while parsing CIF: Some fractional coordinates rounded to ideal values to avoid issues with finite precision.\n",
      "  warnings.warn(\"Issues encountered while parsing CIF: \" + \"\\n\".join(self.warnings))\n",
      "INFO:kgcnn.data.ExampleCrystal:Exporting as dict for pymatgen ...\n",
      "INFO:kgcnn.data.ExampleCrystal:Saving structures as .json ...\n"
     ]
    },
    {
     "data": {
      "text/plain": [
       "<CrystalDataset []>"
      ]
     },
     "execution_count": 5,
     "metadata": {},
     "output_type": "execute_result"
    }
   ],
   "source": [
    "dataset.prepare_data(file_column_name=\"file_name\", overwrite=True)"
   ]
  },
  {
   "cell_type": "markdown",
   "id": "375c1c44",
   "metadata": {},
   "source": [
    "### 2. Read in memory with `read_in_memory`."
   ]
  },
  {
   "cell_type": "code",
   "execution_count": 6,
   "id": "f263c524",
   "metadata": {
    "scrolled": true
   },
   "outputs": [
    {
     "name": "stderr",
     "output_type": "stream",
     "text": [
      "INFO:kgcnn.data.ExampleCrystal:Making node features from structure...\n",
      "INFO:kgcnn.data.ExampleCrystal:Reading structures from .json ...\n",
      "INFO:kgcnn.data.ExampleCrystal: ... read structures 0 from 3\n"
     ]
    },
    {
     "name": "stdout",
     "output_type": "stream",
     "text": [
      "{'graph_labels': array(98.58577123), 'node_coordinates': array([[0.00000000e+00, 0.00000000e+00, 0.00000000e+00],\n",
      "       [1.31245659e-09, 6.13991078e+00, 2.27324426e-09]]), 'node_frac_coordinates': array([[0. , 0. , 0. ],\n",
      "       [0.5, 0.5, 0.5]]), 'graph_lattice': array([[ 1.44719085e+00,  4.09327385e+00,  2.50660808e+00],\n",
      "       [ 1.44719085e+00,  4.09327385e+00, -2.50660808e+00],\n",
      "       [-2.89438170e+00,  4.09327385e+00,  1.51549528e-09]]), 'abc': array([5.01321616, 5.01321616, 5.01321616]), 'charge': array([0.]), 'volume': array([89.0910946]), 'node_number': array([56, 52])}\n"
     ]
    }
   ],
   "source": [
    "dataset.read_in_memory(label_column_name=\"label\")\n",
    "print(dataset[0])"
   ]
  },
  {
   "cell_type": "markdown",
   "id": "3bb2d359",
   "metadata": {},
   "source": [
    "Read pymatgen only via `get_structures_from_json_file`. The structures are not assigned to the dataset but returned by the function."
   ]
  },
  {
   "cell_type": "code",
   "execution_count": 7,
   "id": "d8a29936",
   "metadata": {},
   "outputs": [
    {
     "name": "stderr",
     "output_type": "stream",
     "text": [
      "INFO:kgcnn.data.ExampleCrystal:Reading structures from .json ...\n"
     ]
    },
    {
     "data": {
      "text/plain": [
       "[Structure Summary\n",
       " Lattice\n",
       "     abc : 5.01321616 5.013216158484504 5.0132161584845045\n",
       "  angles : 60.00000002 60.00000001 60.00000001\n",
       "  volume : 89.09109460256703\n",
       "       A : 1.4471908506158624 4.093273852854227 2.5066080815154956\n",
       "       B : 1.4471908506158624 4.093273852854227 -2.506608078484504\n",
       "       C : -2.8943816986068107 4.093273852854227 1.5154952848206449e-09\n",
       "     pbc : True True True\n",
       " PeriodicSite: Ba (0.0000, 0.0000, 0.0000) [0.0000, 0.0000, 0.0000]\n",
       " PeriodicSite: Te (0.0000, 6.1399, 0.0000) [0.5000, 0.5000, 0.5000],\n",
       " Structure Summary\n",
       " Lattice\n",
       "     abc : 3.40772664 3.4077266405150777 3.407726637424612\n",
       "  angles : 60.000000029999995 60.000000024999984 59.999999995\n",
       "  volume : 27.98203208499981\n",
       "       A : 0.9837259499337652 2.7823971493851167 1.7038633194849222\n",
       "       B : 0.9837259499337652 2.7823971493851167 -1.7038633205150777\n",
       "       C : -1.9674518897566036 2.7823971493851167 -0.0\n",
       "     pbc : True True True\n",
       " PeriodicSite: B (0.0000, 6.2604, -0.0000) [0.7500, 0.7500, 0.7500]\n",
       " PeriodicSite: As (0.0000, 0.0000, 0.0000) [0.0000, 0.0000, 0.0000],\n",
       " Structure Summary\n",
       " Lattice\n",
       "     abc : 4.301499761018623 4.30149976 5.2703\n",
       "  angles : 90.00000000000001 90.0 119.99999631649949\n",
       "  volume : 84.45119340290724\n",
       "       A : -2.150750001018624 -3.725207997838733 -5.267818059574724e-16\n",
       "       B : -2.150749998981376 3.725207997838733 2.633908956308554e-16\n",
       "       C : 0.0 0.0 -5.2703\n",
       "     pbc : True True True\n",
       " PeriodicSite: Ba (0.0000, 0.0000, 0.0000) [0.0000, 0.0000, 0.0000]\n",
       " PeriodicSite: Ga (-2.1507, 1.2417, -2.4122) [0.3333, 0.6667, 0.4577]\n",
       " PeriodicSite: Si (-2.1505, -1.2417, -2.8697) [0.6666, 0.3333, 0.5445]\n",
       " PeriodicSite: H (-2.1507, 1.2417, -0.6540) [0.3333, 0.6667, 0.1241]]"
      ]
     },
     "execution_count": 7,
     "metadata": {},
     "output_type": "execute_result"
    }
   ],
   "source": [
    "dataset.get_structures_from_json_file()"
   ]
  },
  {
   "cell_type": "markdown",
   "id": "dccc3129",
   "metadata": {},
   "source": [
    "Or save them directly to json without collecting individual files."
   ]
  },
  {
   "cell_type": "code",
   "execution_count": 8,
   "id": "7cd221bf",
   "metadata": {},
   "outputs": [
    {
     "name": "stderr",
     "output_type": "stream",
     "text": [
      "INFO:kgcnn.data.ExampleCrystal:Exporting as dict for pymatgen ...\n",
      "INFO:kgcnn.data.ExampleCrystal:Saving structures as .json ...\n"
     ]
    }
   ],
   "source": [
    "dataset.save_structures_to_json_file(test_data)"
   ]
  },
  {
   "cell_type": "markdown",
   "id": "2841c4ad",
   "metadata": {},
   "source": [
    "### 3. Generate graph"
   ]
  },
  {
   "cell_type": "code",
   "execution_count": 9,
   "id": "ccfceb8a",
   "metadata": {},
   "outputs": [
    {
     "data": {
      "text/plain": [
       "<CrystalDataset [{'graph_labels': array(98.58577123), 'node_coordinates': array([[0.00000000e+00, 0.00000000e+00, 0.00000000e+00],\n",
       "       [1.31245659e-09, 6.13991078e+00, 2.27324426e-09]]), 'node_frac_coordinates': array([[0. , 0. , 0. ],\n",
       "       [0.5, 0.5, 0.5]]), 'graph_lattice': array([[ 1.44719085e+00,  4.09327385e+00,  2.50660808e+00],\n",
       "       [ 1.44719085e+00,  4.09327385e+00, -2.50660808e+00],\n",
       "       [-2.89438170e+00,  4.09327385e+00,  1.51549528e-09]]), 'abc': array([5.01321616, 5.01321616, 5.01321616]), 'charge': array([0.]), 'volume': array([89.0910946]), 'node_number': array([56, 52]), 'range_indices': array([[0, 1],\n",
       "       [0, 1],\n",
       "       [0, 1],\n",
       "       [0, 1],\n",
       "       [0, 1],\n",
       "       [0, 1],\n",
       "       [1, 0],\n",
       "       [1, 0],\n",
       "       [1, 0],\n",
       "       [1, 0],\n",
       "       [1, 0],\n",
       "       [1, 0]]), 'range_image': array([[-1,  0,  0],\n",
       "       [ 0, -1, -1],\n",
       "       [-1,  0, -1],\n",
       "       [ 0,  0, -1],\n",
       "       [-1, -1,  0],\n",
       "       [ 0, -1,  0],\n",
       "       [ 1,  0,  0],\n",
       "       [ 0,  1,  1],\n",
       "       [ 1,  0,  1],\n",
       "       [ 0,  0,  1],\n",
       "       [ 1,  1,  0],\n",
       "       [ 0,  1,  0]]), 'range_attributes': array([[3.54487914],\n",
       "       [3.54487914],\n",
       "       [3.54487914],\n",
       "       [3.54487914],\n",
       "       [3.54487914],\n",
       "       [3.54487914],\n",
       "       [3.54487914],\n",
       "       [3.54487914],\n",
       "       [3.54487914],\n",
       "       [3.54487914],\n",
       "       [3.54487914],\n",
       "       [3.54487914]])} ...]>"
      ]
     },
     "execution_count": 9,
     "metadata": {},
     "output_type": "execute_result"
    }
   ],
   "source": [
    "dataset.map_list(method=\"set_range_periodic\", max_distance=5.0, max_neighbours=20)"
   ]
  },
  {
   "cell_type": "code",
   "execution_count": 10,
   "id": "415ce564",
   "metadata": {},
   "outputs": [
    {
     "data": {
      "text/plain": [
       "{'graph_labels': array(98.58577123),\n",
       " 'node_coordinates': array([[0.00000000e+00, 0.00000000e+00, 0.00000000e+00],\n",
       "        [1.31245659e-09, 6.13991078e+00, 2.27324426e-09]]),\n",
       " 'node_frac_coordinates': array([[0. , 0. , 0. ],\n",
       "        [0.5, 0.5, 0.5]]),\n",
       " 'graph_lattice': array([[ 1.44719085e+00,  4.09327385e+00,  2.50660808e+00],\n",
       "        [ 1.44719085e+00,  4.09327385e+00, -2.50660808e+00],\n",
       "        [-2.89438170e+00,  4.09327385e+00,  1.51549528e-09]]),\n",
       " 'abc': array([5.01321616, 5.01321616, 5.01321616]),\n",
       " 'charge': array([0.]),\n",
       " 'volume': array([89.0910946]),\n",
       " 'node_number': array([56, 52]),\n",
       " 'range_indices': array([[0, 1],\n",
       "        [0, 1],\n",
       "        [0, 1],\n",
       "        [0, 1],\n",
       "        [0, 1],\n",
       "        [0, 1],\n",
       "        [1, 0],\n",
       "        [1, 0],\n",
       "        [1, 0],\n",
       "        [1, 0],\n",
       "        [1, 0],\n",
       "        [1, 0]]),\n",
       " 'range_image': array([[-1,  0,  0],\n",
       "        [ 0, -1, -1],\n",
       "        [-1,  0, -1],\n",
       "        [ 0,  0, -1],\n",
       "        [-1, -1,  0],\n",
       "        [ 0, -1,  0],\n",
       "        [ 1,  0,  0],\n",
       "        [ 0,  1,  1],\n",
       "        [ 1,  0,  1],\n",
       "        [ 0,  0,  1],\n",
       "        [ 1,  1,  0],\n",
       "        [ 0,  1,  0]]),\n",
       " 'range_attributes': array([[3.54487914],\n",
       "        [3.54487914],\n",
       "        [3.54487914],\n",
       "        [3.54487914],\n",
       "        [3.54487914],\n",
       "        [3.54487914],\n",
       "        [3.54487914],\n",
       "        [3.54487914],\n",
       "        [3.54487914],\n",
       "        [3.54487914],\n",
       "        [3.54487914],\n",
       "        [3.54487914]])}"
      ]
     },
     "execution_count": 10,
     "metadata": {},
     "output_type": "execute_result"
    }
   ],
   "source": [
    "dataset[0]"
   ]
  },
  {
   "cell_type": "markdown",
   "id": "88f07d0d",
   "metadata": {},
   "source": [
    "### 4. Model training"
   ]
  },
  {
   "cell_type": "code",
   "execution_count": 11,
   "id": "c6fd8c98",
   "metadata": {},
   "outputs": [],
   "source": [
    "from kgcnn.literature.Schnet import make_crystal_model\n",
    "from tensorflow.keras.optimizers import Adam"
   ]
  },
  {
   "cell_type": "code",
   "execution_count": 12,
   "id": "65a00242",
   "metadata": {},
   "outputs": [
    {
     "name": "stderr",
     "output_type": "stream",
     "text": [
      "WARNING:kgcnn.model.utils:Model kwargs: Overwriting dictionary of output_mlp with None\n",
      "INFO:kgcnn.model.utils:Updated model kwargs:\n",
      "INFO:kgcnn.model.utils:{'name': 'Schnet', 'inputs': [{'shape': (None,), 'name': 'node_number', 'dtype': 'float32', 'ragged': True}, {'shape': (None, 3), 'name': 'node_coordinates', 'dtype': 'float32', 'ragged': True}, {'shape': (None, 2), 'name': 'range_indices', 'dtype': 'int64', 'ragged': True}, {'shape': (None, 3), 'name': 'range_image', 'dtype': 'int64', 'ragged': True}, {'shape': (3, 3), 'name': 'graph_lattice', 'dtype': 'float32', 'ragged': False}], 'input_embedding': {'node': {'input_dim': 95, 'output_dim': 64}}, 'make_distance': True, 'expand_distance': True, 'interaction_args': {'units': 128, 'use_bias': True, 'activation': 'kgcnn>shifted_softplus', 'cfconv_pool': 'sum'}, 'node_pooling_args': {'pooling_method': 'mean'}, 'depth': 4, 'gauss_args': {'bins': 25, 'distance': 5, 'offset': 0.0, 'sigma': 0.4}, 'verbose': 10, 'last_mlp': {'use_bias': [True, True, True], 'units': [128, 64, 1], 'activation': ['kgcnn>shifted_softplus', 'kgcnn>shifted_softplus', 'linear']}, 'output_embedding': 'graph', 'output_to_tensor': True, 'use_output_mlp': False, 'output_mlp': None}\n"
     ]
    }
   ],
   "source": [
    "model_config = {\n",
    "    \"name\": \"Schnet\",\n",
    "    \"inputs\": [\n",
    "        {'shape': (None,), 'name': \"node_number\", 'dtype': 'float32', 'ragged': True},\n",
    "        {'shape': (None, 3), 'name': \"node_coordinates\", 'dtype': 'float32', 'ragged': True},\n",
    "        {'shape': (None, 2), 'name': \"range_indices\", 'dtype': 'int64', 'ragged': True},\n",
    "        {'shape': (None, 3), 'name': \"range_image\", 'dtype': 'int64', 'ragged': True},\n",
    "        {'shape': (3, 3), 'name': \"graph_lattice\", 'dtype': 'float32', 'ragged': False}\n",
    "    ],\n",
    "    \"input_embedding\": {\n",
    "        \"node\": {\"input_dim\": 95, \"output_dim\": 64}\n",
    "    },\n",
    "    \"interaction_args\": {\n",
    "        \"units\": 128, \"use_bias\": True, \"activation\": \"kgcnn>shifted_softplus\", \"cfconv_pool\": \"sum\"\n",
    "    },\n",
    "    \"node_pooling_args\": {\"pooling_method\": \"mean\"},\n",
    "    \"depth\": 4,\n",
    "    \"gauss_args\": {\"bins\": 25, \"distance\": 5, \"offset\": 0.0, \"sigma\": 0.4}, \"verbose\": 10,\n",
    "    \"last_mlp\": {\"use_bias\": [True, True, True], \"units\": [128, 64, 1],\n",
    "                 \"activation\": ['kgcnn>shifted_softplus', 'kgcnn>shifted_softplus', 'linear']},\n",
    "    \"output_embedding\": \"graph\",\n",
    "    \"use_output_mlp\": False,\n",
    "    \"output_mlp\": None,  # Last MLP sets output dimension if None.\n",
    "}\n",
    "model = make_crystal_model(**model_config)"
   ]
  },
  {
   "cell_type": "code",
   "execution_count": 13,
   "id": "9630cdf3",
   "metadata": {},
   "outputs": [
    {
     "name": "stderr",
     "output_type": "stream",
     "text": [
      "INFO:kgcnn.data.ExampleCrystal:No invalid graphs for assigned properties found.\n"
     ]
    },
    {
     "data": {
      "text/plain": [
       "array([], dtype=int32)"
      ]
     },
     "execution_count": 13,
     "metadata": {},
     "output_type": "execute_result"
    }
   ],
   "source": [
    "dataset.clean(model_config[\"inputs\"])"
   ]
  },
  {
   "cell_type": "code",
   "execution_count": 14,
   "id": "a36e6f6a",
   "metadata": {},
   "outputs": [
    {
     "data": {
      "text/plain": [
       "(3, 1)"
      ]
     },
     "execution_count": 14,
     "metadata": {},
     "output_type": "execute_result"
    }
   ],
   "source": [
    "y_train = np.expand_dims(dataset.get(\"graph_labels\"), axis=-1)/1000  # Change units by 1000\n",
    "x_train = dataset.tensor(model_config[\"inputs\"])\n",
    "y_train.shape"
   ]
  },
  {
   "cell_type": "code",
   "execution_count": 15,
   "id": "5c61ef2c",
   "metadata": {},
   "outputs": [
    {
     "name": "stdout",
     "output_type": "stream",
     "text": [
      "Epoch 1/20\n"
     ]
    },
    {
     "name": "stderr",
     "output_type": "stream",
     "text": [
      "C:\\Users\\patri\\anaconda3\\envs\\gcnn_keras_test\\lib\\site-packages\\tensorflow\\python\\framework\\indexed_slices.py:444: UserWarning: Converting sparse IndexedSlices(IndexedSlices(indices=Tensor(\"gradient_tape/model/sch_net_interaction_3/sch_net_c_fconv_3/pooling_local_edges_3/Reshape_1:0\", shape=(None,), dtype=int32), values=Tensor(\"gradient_tape/model/sch_net_interaction_3/sch_net_c_fconv_3/pooling_local_edges_3/Reshape:0\", shape=(None, 128), dtype=float32), dense_shape=Tensor(\"gradient_tape/model/sch_net_interaction_3/sch_net_c_fconv_3/pooling_local_edges_3/Cast:0\", shape=(2,), dtype=int32))) to a dense Tensor of unknown shape. This may consume a large amount of memory.\n",
      "  warnings.warn(\n",
      "C:\\Users\\patri\\anaconda3\\envs\\gcnn_keras_test\\lib\\site-packages\\tensorflow\\python\\framework\\indexed_slices.py:444: UserWarning: Converting sparse IndexedSlices(IndexedSlices(indices=Tensor(\"gradient_tape/model/sch_net_interaction_3/sch_net_c_fconv_3/gather_nodes_outgoing_3/Reshape_1:0\", shape=(None,), dtype=int64), values=Tensor(\"gradient_tape/model/sch_net_interaction_3/sch_net_c_fconv_3/gather_nodes_outgoing_3/Reshape:0\", shape=(None, 128), dtype=float32), dense_shape=Tensor(\"gradient_tape/model/sch_net_interaction_3/sch_net_c_fconv_3/gather_nodes_outgoing_3/Cast:0\", shape=(2,), dtype=int32))) to a dense Tensor of unknown shape. This may consume a large amount of memory.\n",
      "  warnings.warn(\n",
      "C:\\Users\\patri\\anaconda3\\envs\\gcnn_keras_test\\lib\\site-packages\\tensorflow\\python\\framework\\indexed_slices.py:444: UserWarning: Converting sparse IndexedSlices(IndexedSlices(indices=Tensor(\"gradient_tape/model/sch_net_interaction_2/sch_net_c_fconv_2/pooling_local_edges_2/Reshape_1:0\", shape=(None,), dtype=int32), values=Tensor(\"gradient_tape/model/sch_net_interaction_2/sch_net_c_fconv_2/pooling_local_edges_2/Reshape:0\", shape=(None, 128), dtype=float32), dense_shape=Tensor(\"gradient_tape/model/sch_net_interaction_2/sch_net_c_fconv_2/pooling_local_edges_2/Cast:0\", shape=(2,), dtype=int32))) to a dense Tensor of unknown shape. This may consume a large amount of memory.\n",
      "  warnings.warn(\n",
      "C:\\Users\\patri\\anaconda3\\envs\\gcnn_keras_test\\lib\\site-packages\\tensorflow\\python\\framework\\indexed_slices.py:444: UserWarning: Converting sparse IndexedSlices(IndexedSlices(indices=Tensor(\"gradient_tape/model/sch_net_interaction_2/sch_net_c_fconv_2/gather_nodes_outgoing_2/Reshape_1:0\", shape=(None,), dtype=int64), values=Tensor(\"gradient_tape/model/sch_net_interaction_2/sch_net_c_fconv_2/gather_nodes_outgoing_2/Reshape:0\", shape=(None, 128), dtype=float32), dense_shape=Tensor(\"gradient_tape/model/sch_net_interaction_2/sch_net_c_fconv_2/gather_nodes_outgoing_2/Cast:0\", shape=(2,), dtype=int32))) to a dense Tensor of unknown shape. This may consume a large amount of memory.\n",
      "  warnings.warn(\n",
      "C:\\Users\\patri\\anaconda3\\envs\\gcnn_keras_test\\lib\\site-packages\\tensorflow\\python\\framework\\indexed_slices.py:444: UserWarning: Converting sparse IndexedSlices(IndexedSlices(indices=Tensor(\"gradient_tape/model/sch_net_interaction_1/sch_net_c_fconv_1/pooling_local_edges_1/Reshape_1:0\", shape=(None,), dtype=int32), values=Tensor(\"gradient_tape/model/sch_net_interaction_1/sch_net_c_fconv_1/pooling_local_edges_1/Reshape:0\", shape=(None, 128), dtype=float32), dense_shape=Tensor(\"gradient_tape/model/sch_net_interaction_1/sch_net_c_fconv_1/pooling_local_edges_1/Cast:0\", shape=(2,), dtype=int32))) to a dense Tensor of unknown shape. This may consume a large amount of memory.\n",
      "  warnings.warn(\n",
      "C:\\Users\\patri\\anaconda3\\envs\\gcnn_keras_test\\lib\\site-packages\\tensorflow\\python\\framework\\indexed_slices.py:444: UserWarning: Converting sparse IndexedSlices(IndexedSlices(indices=Tensor(\"gradient_tape/model/sch_net_interaction_1/sch_net_c_fconv_1/gather_nodes_outgoing_1/Reshape_1:0\", shape=(None,), dtype=int64), values=Tensor(\"gradient_tape/model/sch_net_interaction_1/sch_net_c_fconv_1/gather_nodes_outgoing_1/Reshape:0\", shape=(None, 128), dtype=float32), dense_shape=Tensor(\"gradient_tape/model/sch_net_interaction_1/sch_net_c_fconv_1/gather_nodes_outgoing_1/Cast:0\", shape=(2,), dtype=int32))) to a dense Tensor of unknown shape. This may consume a large amount of memory.\n",
      "  warnings.warn(\n",
      "C:\\Users\\patri\\anaconda3\\envs\\gcnn_keras_test\\lib\\site-packages\\tensorflow\\python\\framework\\indexed_slices.py:444: UserWarning: Converting sparse IndexedSlices(IndexedSlices(indices=Tensor(\"gradient_tape/model/sch_net_interaction/sch_net_c_fconv/pooling_local_edges/Reshape_1:0\", shape=(None,), dtype=int32), values=Tensor(\"gradient_tape/model/sch_net_interaction/sch_net_c_fconv/pooling_local_edges/Reshape:0\", shape=(None, 128), dtype=float32), dense_shape=Tensor(\"gradient_tape/model/sch_net_interaction/sch_net_c_fconv/pooling_local_edges/Cast:0\", shape=(2,), dtype=int32))) to a dense Tensor of unknown shape. This may consume a large amount of memory.\n",
      "  warnings.warn(\n",
      "C:\\Users\\patri\\anaconda3\\envs\\gcnn_keras_test\\lib\\site-packages\\tensorflow\\python\\framework\\indexed_slices.py:444: UserWarning: Converting sparse IndexedSlices(IndexedSlices(indices=Tensor(\"gradient_tape/model/sch_net_interaction/sch_net_c_fconv/gather_nodes_outgoing/Reshape_1:0\", shape=(None,), dtype=int64), values=Tensor(\"gradient_tape/model/sch_net_interaction/sch_net_c_fconv/gather_nodes_outgoing/Reshape:0\", shape=(None, 128), dtype=float32), dense_shape=Tensor(\"gradient_tape/model/sch_net_interaction/sch_net_c_fconv/gather_nodes_outgoing/Cast:0\", shape=(2,), dtype=int32))) to a dense Tensor of unknown shape. This may consume a large amount of memory.\n",
      "  warnings.warn(\n"
     ]
    },
    {
     "name": "stdout",
     "output_type": "stream",
     "text": [
      "1/1 - 3s - loss: 0.6566 - mean_absolute_error: 0.6566 - 3s/epoch - 3s/step\n",
      "Epoch 2/20\n",
      "1/1 - 0s - loss: 0.6412 - mean_absolute_error: 0.6412 - 23ms/epoch - 23ms/step\n",
      "Epoch 3/20\n",
      "1/1 - 0s - loss: 0.6262 - mean_absolute_error: 0.6262 - 22ms/epoch - 22ms/step\n",
      "Epoch 4/20\n",
      "1/1 - 0s - loss: 0.6111 - mean_absolute_error: 0.6111 - 21ms/epoch - 21ms/step\n",
      "Epoch 5/20\n",
      "1/1 - 0s - loss: 0.5955 - mean_absolute_error: 0.5955 - 26ms/epoch - 26ms/step\n",
      "Epoch 6/20\n",
      "1/1 - 0s - loss: 0.5788 - mean_absolute_error: 0.5788 - 20ms/epoch - 20ms/step\n",
      "Epoch 7/20\n",
      "1/1 - 0s - loss: 0.5605 - mean_absolute_error: 0.5605 - 21ms/epoch - 21ms/step\n",
      "Epoch 8/20\n",
      "1/1 - 0s - loss: 0.5401 - mean_absolute_error: 0.5401 - 19ms/epoch - 19ms/step\n",
      "Epoch 9/20\n",
      "1/1 - 0s - loss: 0.5170 - mean_absolute_error: 0.5170 - 20ms/epoch - 20ms/step\n",
      "Epoch 10/20\n",
      "1/1 - 0s - loss: 0.4905 - mean_absolute_error: 0.4905 - 20ms/epoch - 20ms/step\n",
      "Epoch 11/20\n",
      "1/1 - 0s - loss: 0.4598 - mean_absolute_error: 0.4598 - 20ms/epoch - 20ms/step\n",
      "Epoch 12/20\n",
      "1/1 - 0s - loss: 0.4240 - mean_absolute_error: 0.4240 - 21ms/epoch - 21ms/step\n",
      "Epoch 13/20\n",
      "1/1 - 0s - loss: 0.3821 - mean_absolute_error: 0.3821 - 19ms/epoch - 19ms/step\n",
      "Epoch 14/20\n",
      "1/1 - 0s - loss: 0.3328 - mean_absolute_error: 0.3328 - 23ms/epoch - 23ms/step\n",
      "Epoch 15/20\n",
      "1/1 - 0s - loss: 0.2745 - mean_absolute_error: 0.2745 - 23ms/epoch - 23ms/step\n",
      "Epoch 16/20\n",
      "1/1 - 0s - loss: 0.2096 - mean_absolute_error: 0.2096 - 21ms/epoch - 21ms/step\n",
      "Epoch 17/20\n",
      "1/1 - 0s - loss: 0.2256 - mean_absolute_error: 0.2256 - 25ms/epoch - 25ms/step\n",
      "Epoch 18/20\n",
      "1/1 - 0s - loss: 0.2324 - mean_absolute_error: 0.2324 - 22ms/epoch - 22ms/step\n",
      "Epoch 19/20\n",
      "1/1 - 0s - loss: 0.2271 - mean_absolute_error: 0.2271 - 20ms/epoch - 20ms/step\n",
      "Epoch 20/20\n",
      "1/1 - 0s - loss: 0.2103 - mean_absolute_error: 0.2103 - 22ms/epoch - 22ms/step\n"
     ]
    },
    {
     "data": {
      "text/plain": [
       "<keras.callbacks.History at 0x144a55bc8b0>"
      ]
     },
     "execution_count": 15,
     "metadata": {},
     "output_type": "execute_result"
    }
   ],
   "source": [
    "model.compile(\n",
    "    loss=\"mean_absolute_error\",\n",
    "    optimizer=Adam(learning_rate=1e-04),\n",
    "    metrics=[\"mean_absolute_error\"],\n",
    ")\n",
    "\n",
    "model.fit(\n",
    "    x_train, y_train,\n",
    "    shuffle=True,\n",
    "    batch_size=3,\n",
    "    epochs=20,\n",
    "    verbose=2,\n",
    ")"
   ]
  },
  {
   "cell_type": "code",
   "execution_count": null,
   "id": "a58d579a",
   "metadata": {},
   "outputs": [],
   "source": []
  }
 ],
 "metadata": {
  "kernelspec": {
   "display_name": "Python 3 (ipykernel)",
   "language": "python",
   "name": "python3"
  },
  "language_info": {
   "codemirror_mode": {
    "name": "ipython",
    "version": 3
   },
   "file_extension": ".py",
   "mimetype": "text/x-python",
   "name": "python",
   "nbconvert_exporter": "python",
   "pygments_lexer": "ipython3",
   "version": "3.9.7"
  }
 },
 "nbformat": 4,
 "nbformat_minor": 5
}
