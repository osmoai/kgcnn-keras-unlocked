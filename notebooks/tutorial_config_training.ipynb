{
 "cells": [
  {
   "cell_type": "markdown",
   "metadata": {},
   "source": [
    "# Config File Structure"
   ]
  },
  {
   "cell_type": "code",
   "execution_count": 1,
   "metadata": {},
   "outputs": [],
   "source": [
    "import tensorflow as tf\n",
    "import json"
   ]
  },
  {
   "cell_type": "markdown",
   "metadata": {},
   "source": [
    "The hyper-parameter dictionary used for model tuning, fitting and data structue has the following form:\n",
    "```python3\n",
    "hyper = {\n",
    "    \"info\":{ \n",
    "        # General information for training run\n",
    "        \"kgcnn_version\": \"2.0.0\", # Version \n",
    "        \"postfix\": \"\" # postfix for output folder\n",
    "    },\n",
    "    \"model\": { \n",
    "        # Model specific parameter, see kgcnn.literature\n",
    "    },\n",
    "    \"data\": { \n",
    "        # Dataset specific parameter\n",
    "    },\n",
    "    \"training\": {\n",
    "        \"fit\": { \n",
    "            # keras fit arguments serialized\n",
    "        },\n",
    "        \"compile\": { \n",
    "            # Keras compile arguments serialized\n",
    "        }\n",
    "    }\n",
    "}\n",
    "```\n",
    "The following sections explain each block.\n"
   ]
  },
  {
   "cell_type": "code",
   "execution_count": 2,
   "metadata": {},
   "outputs": [],
   "source": [
    "hyper = {}"
   ]
  },
  {
   "cell_type": "markdown",
   "metadata": {},
   "source": [
    "## Model"
   ]
  },
  {
   "cell_type": "markdown",
   "metadata": {},
   "source": [
    "The model parameters can be reviewed from the default values in ``kgcnn.literature``. Mostly model input and output has to be matched depending on the data representation. That is type of input and its shape. An input-type checker can be used from `kgcnn.data.base.MemoryGraphDataset`, which has `assert_valid_model_input`. In ``inputs`` a list of kwargs must be given, which are each unpacked in the corresponding ``tf.keras.layers.Input``. The order matters and is model dependent.\n",
    "\n",
    "Moreover, naming of the model input is used to link the tensor properties of the dataset with the model input. "
   ]
  },
  {
   "cell_type": "code",
   "execution_count": 3,
   "metadata": {},
   "outputs": [],
   "source": [
    "hyper.update({\n",
    "    \"model\":{\n",
    "        \"module_name\": None, \n",
    "        \"class_name\": \"make_model\",\n",
    "        \"config\":{\n",
    "            \"inputs\": [\n",
    "                {\"shape\": [None, 100], \"name\": \"node_attributes\", \"dtype\": \"float32\", \"ragged\": True},\n",
    "                {\"shape\": [None, 2], \"name\": \"edge_indices\", \"dtype\": \"int64\", \"ragged\": True}],\n",
    "            # More model specific kwargs, like:\n",
    "            \"depth\": 5,\n",
    "            # Output part defining model output\n",
    "            \"output_embedding\": \"graph\",\n",
    "            \"output_mlp\": {\"use_bias\": [True, True, False], \"units\": [140, 70, 70],\n",
    "                           \"activation\": [\"relu\", \"relu\", \"softmax\"]}\n",
    "        }\n",
    "    }\n",
    "})"
   ]
  },
  {
   "cell_type": "markdown",
   "metadata": {},
   "source": [
    "Here, the training script should provide ``dataset.edge_indices`` of shape `(batch, None, 2)` and ``dataset.node_attributes`` of shape `(batch, None, 100)` from the dataset. Note that the shape must match the actual shape in dataset.\n",
    "\n",
    "For output, idally all models simply have a MLP at the output and the activation as well as the final output dimension can be chosen by setting the kwargs ``output_mlp`` (unpacked in MLP) for last layer in ``units`` and ``activation``. The number in units must macht the labels or classes of the target. This is mostly ``dataset.graph_labels``, but depends on dataset and classification task, either graph or node classification."
   ]
  },
  {
   "cell_type": "markdown",
   "metadata": {},
   "source": [
    "## Data"
   ]
  },
  {
   "cell_type": "markdown",
   "metadata": {},
   "source": [
    "The kwargs for the dataset are not fully identical and vary a little depending on the datset. However, the most common are listed below.\n",
    "\n"
   ]
  },
  {
   "cell_type": "code",
   "execution_count": 4,
   "metadata": {},
   "outputs": [],
   "source": [
    "hyper.update({\n",
    "    \"data\":{\n",
    "        \"dataset\": {\n",
    "            \"class_name\": \"QM9Dataset\", # Name of the dataset\n",
    "            \"module_name\": \"kgcnn.data.datasets.QM9Dataset\",\n",
    "            \n",
    "            # Config like filepath etc., leave empty for pre-defined datasets\n",
    "            \"config\": {}, \n",
    "            \n",
    "            # Methods to run on dataset, i.e. the list of graphs\n",
    "            \"methods\": [\n",
    "                {\"prepare_data\": {}}, # Used for cache and pre-compute data, leave out for pre-defined datasets\n",
    "                {\"read_in_memory\": {}}, # Used for reading into memory, leave out for pre-defined datasets\n",
    "                \n",
    "                # Example method to run over each graph in the list using `map_list` method.\n",
    "                {\"map_list\": {\"method\": \"set_range\", \"max_distance\": 4, \"max_neighbours\": 30}}\n",
    "            ]\n",
    "        },\n",
    "        \n",
    "        # Other optinal entries (depends on the training script)\n",
    "        \"data_unit\": \"mol/L\",\n",
    "    }\n",
    "})"
   ]
  },
  {
   "cell_type": "markdown",
   "metadata": {},
   "source": [
    "## Training"
   ]
  },
  {
   "cell_type": "markdown",
   "metadata": {},
   "source": [
    "The kwargs for training simply sets arguments for ``model.compile(**kwargs)`` and ``model.fit(**kwargs)`` that matches keras arguments as well as for the k-fold split from scikit-learn. The kwargs are expected to be fully serialized, if the hyper parameters are supposed to be saved to json."
   ]
  },
  {
   "cell_type": "code",
   "execution_count": 5,
   "metadata": {},
   "outputs": [],
   "source": [
    "hyper.update({\n",
    "    \"training\":{\n",
    "        # Cross-validation of the data\n",
    "        \"cross_validation\": {\n",
    "            \"class_name\": \"KFold\",\n",
    "            \"config\": {\"n_splits\": 5, \"random_state\": 42, \"shuffle\": True}\n",
    "        },\n",
    "        # Standard scaler for regression targets\n",
    "        \"scaler\": {\n",
    "            \"class_name\": \"StandardScaler\",\n",
    "            \"module_name\": \"kgcnn.data.transform.scaler.scaler\",\n",
    "            \"config\": {\"with_std\": True, \"with_mean\": True, \"copy\": True}\n",
    "        },\n",
    "        # Keras model compile and fit\n",
    "        \"compile\": {\n",
    "            \"loss\": \"categorical_crossentropy\",\n",
    "            \"optimizer\": tf.keras.optimizers.serialize(\n",
    "                tf.keras.optimizers.Adam(learning_rate=0.001))\n",
    "        },\n",
    "        \"fit\": {\n",
    "            \"batch_size\": 32, \"epochs\": 800, \"verbose\": 2, \n",
    "            \"callbacks\": []\n",
    "        }\n",
    "    }\n",
    "})"
   ]
  },
  {
   "cell_type": "markdown",
   "metadata": {},
   "source": [
    "## Info"
   ]
  },
  {
   "cell_type": "markdown",
   "metadata": {},
   "source": [
    "Some general information on the training, such as the used kgcnn version or a postfix for the output files."
   ]
  },
  {
   "cell_type": "code",
   "execution_count": 6,
   "metadata": {},
   "outputs": [],
   "source": [
    "hyper.update({\n",
    "    \"info\":{ # Generla information\n",
    "        \"postfix\": \"_v1\", # Appends _v1 to output folder\n",
    "        \"postfix_file\": \"_run2\", # Appends _run2 to info files\n",
    "        \"kgcnn_version\": \"2.1.0\"    \n",
    "    }\n",
    "})"
   ]
  },
  {
   "cell_type": "markdown",
   "metadata": {},
   "source": [
    "# Summary"
   ]
  },
  {
   "cell_type": "markdown",
   "metadata": {},
   "source": [
    "Final hyper dictionary which can be fed to training script:"
   ]
  },
  {
   "cell_type": "code",
   "execution_count": 7,
   "metadata": {},
   "outputs": [
    {
     "data": {
      "text/plain": [
       "{'model': {'module_name': None,\n",
       "  'class_name': 'make_model',\n",
       "  'config': {'inputs': [{'shape': [None, 100],\n",
       "     'name': 'node_attributes',\n",
       "     'dtype': 'float32',\n",
       "     'ragged': True},\n",
       "    {'shape': [None, 2],\n",
       "     'name': 'edge_indices',\n",
       "     'dtype': 'int64',\n",
       "     'ragged': True}],\n",
       "   'depth': 5,\n",
       "   'output_embedding': 'graph',\n",
       "   'output_mlp': {'use_bias': [True, True, False],\n",
       "    'units': [140, 70, 70],\n",
       "    'activation': ['relu', 'relu', 'softmax']}}},\n",
       " 'data': {'dataset': {'class_name': 'QM9Dataset',\n",
       "   'module_name': 'kgcnn.data.datasets.QM9Dataset',\n",
       "   'config': {},\n",
       "   'methods': [{'prepare_data': {}},\n",
       "    {'read_in_memory': {}},\n",
       "    {'map_list': {'method': 'set_range',\n",
       "      'max_distance': 4,\n",
       "      'max_neighbours': 30}}]},\n",
       "  'data_unit': 'mol/L'},\n",
       " 'training': {'cross_validation': {'class_name': 'KFold',\n",
       "   'config': {'n_splits': 5, 'random_state': 42, 'shuffle': True}},\n",
       "  'scaler': {'class_name': 'StandardScaler',\n",
       "   'module_name': 'kgcnn.data.transform.scaler.scaler',\n",
       "   'config': {'with_std': True, 'with_mean': True, 'copy': True}},\n",
       "  'compile': {'loss': 'categorical_crossentropy',\n",
       "   'optimizer': {'class_name': 'Adam',\n",
       "    'config': {'name': 'Adam',\n",
       "     'learning_rate': 0.001,\n",
       "     'decay': 0.0,\n",
       "     'beta_1': 0.9,\n",
       "     'beta_2': 0.999,\n",
       "     'epsilon': 1e-07,\n",
       "     'amsgrad': False}}},\n",
       "  'fit': {'batch_size': 32, 'epochs': 800, 'verbose': 2, 'callbacks': []}},\n",
       " 'info': {'postfix': '_v1', 'postfix_file': '_run2', 'kgcnn_version': '2.1.0'}}"
      ]
     },
     "execution_count": 7,
     "metadata": {},
     "output_type": "execute_result"
    }
   ],
   "source": [
    "hyper"
   ]
  }
 ],
 "metadata": {
  "kernelspec": {
   "display_name": "Python 3 (ipykernel)",
   "language": "python",
   "name": "python3"
  },
  "language_info": {
   "codemirror_mode": {
    "name": "ipython",
    "version": 3
   },
   "file_extension": ".py",
   "mimetype": "text/x-python",
   "name": "python",
   "nbconvert_exporter": "python",
   "pygments_lexer": "ipython3",
   "version": "3.9.7"
  }
 },
 "nbformat": 4,
 "nbformat_minor": 4
}
