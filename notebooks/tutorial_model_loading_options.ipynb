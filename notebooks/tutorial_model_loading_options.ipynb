{
 "cells": [
  {
   "cell_type": "markdown",
   "id": "0cf3f480",
   "metadata": {},
   "source": [
    "# Graph loading\n",
    "\n",
    "Different methods of loading (batched) graph tensors for keras model in- and output."
   ]
  },
  {
   "cell_type": "code",
   "execution_count": 1,
   "id": "3cf55e2e",
   "metadata": {},
   "outputs": [],
   "source": [
    "import tensorflow as tf\n",
    "import numpy as np\n",
    "from kgcnn.literature.GIN import make_model"
   ]
  },
  {
   "cell_type": "code",
   "execution_count": 2,
   "id": "04b57bf7",
   "metadata": {},
   "outputs": [],
   "source": [
    "inputs = [\n",
    "    {\"shape\": (None,), \"name\": \"node_number\", \"dtype\": \"float32\", \"ragged\": True},\n",
    "    {\"shape\": (None, 2), \"name\": \"edge_indices\", \"dtype\": \"int64\", \"ragged\": True}\n",
    "]\n",
    "outputs = {\"shape\": [], \"name\": \"graph_labels\", \"dtype\": \"float32\", \"ragged\": False}"
   ]
  },
  {
   "cell_type": "code",
   "execution_count": 3,
   "id": "5b96cd5a",
   "metadata": {},
   "outputs": [
    {
     "name": "stderr",
     "output_type": "stream",
     "text": [
      "INFO:kgcnn.model.utils:Updated model kwargs:\n",
      "INFO:kgcnn.model.utils:{'name': 'GIN', 'inputs': [{'shape': (None,), 'name': 'node_number', 'dtype': 'float32', 'ragged': True}, {'shape': (None, 2), 'name': 'edge_indices', 'dtype': 'int64', 'ragged': True}], 'input_embedding': {'node': {'input_dim': 95, 'output_dim': 64}}, 'gin_mlp': {'units': [64, 64], 'use_bias': True, 'activation': ['relu', 'linear'], 'use_normalization': True, 'normalization_technique': 'graph_batch'}, 'gin_args': {}, 'depth': 3, 'dropout': 0.0, 'verbose': 10, 'last_mlp': {'use_bias': [True, True, True], 'units': [64, 64, 64], 'activation': ['relu', 'relu', 'linear']}, 'output_embedding': 'graph', 'output_to_tensor': True, 'output_mlp': {'use_bias': True, 'units': 1, 'activation': 'linear'}}\n"
     ]
    }
   ],
   "source": [
    "model = make_model(\n",
    "    inputs=inputs,\n",
    "    output_mlp={\"units\": 1, \"activation\": \"linear\"}\n",
    ")\n",
    "model.compile(loss=\"mean_absolute_error\")"
   ]
  },
  {
   "cell_type": "markdown",
   "id": "bb2a8d3a",
   "metadata": {},
   "source": [
    "### 1. Via direct TensorFlow (ragged) tensor input\n",
    "\n",
    "Via `MemoryGraphList` method `tensor()`:"
   ]
  },
  {
   "cell_type": "code",
   "execution_count": 4,
   "id": "4666b8a4",
   "metadata": {},
   "outputs": [
    {
     "name": "stderr",
     "output_type": "stream",
     "text": [
      "ERROR:root:Module 'mol' is deprecated and will be removed in future versions. Please move to 'kgcnn.molecule'.\n",
      "ERROR:kgcnn.molecule.convert:Can not import `RDKit` package for conversion.\n",
      "INFO:kgcnn.data.download:Checking and possibly downloading dataset with name ESOL\n",
      "INFO:kgcnn.data.download:Dataset directory located at C:\\Users\\patri\\.kgcnn\\datasets\n",
      "INFO:kgcnn.data.download:Dataset directory found. Done.\n",
      "INFO:kgcnn.data.download:Dataset found. Done.\n",
      "INFO:kgcnn.data.ESOL:Found SDF C:\\Users\\patri\\.kgcnn\\datasets\\ESOL\\delaney-processed.sdf of pre-computed structures.\n",
      "INFO:kgcnn.data.ESOL:Read molecules from mol-file.\n",
      "INFO:kgcnn.data.ESOL: ... process molecules 0 from 1128\n",
      "INFO:kgcnn.molecule.encoder:OneHotEncoder Symbol found ['O', 'C', 'N', 'S', 'Cl', 'P', 'F', 'I', 'Br']\n",
      "INFO:kgcnn.molecule.encoder:OneHotEncoder Hybridization found [rdkit.Chem.rdchem.HybridizationType.SP3, rdkit.Chem.rdchem.HybridizationType.SP, rdkit.Chem.rdchem.HybridizationType.SP2]\n",
      "INFO:kgcnn.molecule.encoder:OneHotEncoder TotalDegree found [2, 4, 1, 3]\n",
      "INFO:kgcnn.molecule.encoder:OneHotEncoder TotalNumHs found [1, 2, 0, 3, 4]\n",
      "INFO:kgcnn.molecule.encoder:OneHotEncoder CIPCode found [None, 'R', 'S']\n",
      "INFO:kgcnn.molecule.encoder:OneHotEncoder ChiralityPossible found [None, '1']\n",
      "INFO:kgcnn.molecule.encoder:OneHotEncoder BondType found [rdkit.Chem.rdchem.BondType.SINGLE, rdkit.Chem.rdchem.BondType.TRIPLE, rdkit.Chem.rdchem.BondType.AROMATIC, rdkit.Chem.rdchem.BondType.DOUBLE]\n",
      "INFO:kgcnn.molecule.encoder:OneHotEncoder Stereo found [rdkit.Chem.rdchem.BondStereo.STEREONONE, rdkit.Chem.rdchem.BondStereo.STEREOZ, rdkit.Chem.rdchem.BondStereo.STEREOE, rdkit.Chem.rdchem.BondStereo.STEREOANY]\n",
      "INFO:kgcnn.data.ESOL:Property 'edge_indices' is an empty list for graph '934'.\n",
      "WARNING:kgcnn.data.ESOL:Found invalid graphs for properties. Removing graphs '[934]'.\n"
     ]
    },
    {
     "data": {
      "text/plain": [
       "array([934])"
      ]
     },
     "execution_count": 4,
     "metadata": {},
     "output_type": "execute_result"
    }
   ],
   "source": [
    "from kgcnn.data.datasets.ESOLDataset import ESOLDataset\n",
    "dataset = ESOLDataset()\n",
    "dataset.clean([\"node_number\", \"edge_indices\"])"
   ]
  },
  {
   "cell_type": "code",
   "execution_count": 5,
   "id": "e446dfc5",
   "metadata": {},
   "outputs": [
    {
     "name": "stdout",
     "output_type": "stream",
     "text": [
      "[TensorShape([1127, None]), TensorShape([1127, None, 2])]\n"
     ]
    }
   ],
   "source": [
    "tensor_input = dataset.tensor(inputs)\n",
    "print([x.shape for x in tensor_input])"
   ]
  },
  {
   "cell_type": "code",
   "execution_count": 6,
   "id": "8009d01d",
   "metadata": {},
   "outputs": [
    {
     "name": "stdout",
     "output_type": "stream",
     "text": [
      "(1127, 1)\n"
     ]
    }
   ],
   "source": [
    "tensor_output = tf.expand_dims(dataset.tensor(outputs), axis=-1)\n",
    "print(tensor_output.shape)"
   ]
  },
  {
   "cell_type": "code",
   "execution_count": 7,
   "id": "101c5acb",
   "metadata": {},
   "outputs": [
    {
     "name": "stdout",
     "output_type": "stream",
     "text": [
      "Epoch 1/5\n"
     ]
    },
    {
     "name": "stderr",
     "output_type": "stream",
     "text": [
      "C:\\Users\\patri\\anaconda3\\envs\\gcnn_keras_test\\lib\\site-packages\\tensorflow\\python\\framework\\indexed_slices.py:444: UserWarning: Converting sparse IndexedSlices(IndexedSlices(indices=Tensor(\"gradient_tape/model/gin_2/gather_nodes_outgoing_2/Reshape_1:0\", shape=(None,), dtype=int64), values=Tensor(\"gradient_tape/model/gin_2/gather_nodes_outgoing_2/Reshape:0\", shape=(None, 64), dtype=float32), dense_shape=Tensor(\"gradient_tape/model/gin_2/gather_nodes_outgoing_2/Cast:0\", shape=(2,), dtype=int32))) to a dense Tensor of unknown shape. This may consume a large amount of memory.\n",
      "  warnings.warn(\n",
      "C:\\Users\\patri\\anaconda3\\envs\\gcnn_keras_test\\lib\\site-packages\\tensorflow\\python\\framework\\indexed_slices.py:444: UserWarning: Converting sparse IndexedSlices(IndexedSlices(indices=Tensor(\"gradient_tape/model/gin_1/gather_nodes_outgoing_1/Reshape_1:0\", shape=(None,), dtype=int64), values=Tensor(\"gradient_tape/model/gin_1/gather_nodes_outgoing_1/Reshape:0\", shape=(None, 64), dtype=float32), dense_shape=Tensor(\"gradient_tape/model/gin_1/gather_nodes_outgoing_1/Cast:0\", shape=(2,), dtype=int32))) to a dense Tensor of unknown shape. This may consume a large amount of memory.\n",
      "  warnings.warn(\n",
      "C:\\Users\\patri\\anaconda3\\envs\\gcnn_keras_test\\lib\\site-packages\\tensorflow\\python\\framework\\indexed_slices.py:444: UserWarning: Converting sparse IndexedSlices(IndexedSlices(indices=Tensor(\"gradient_tape/model/gin/gather_nodes_outgoing/Reshape_1:0\", shape=(None,), dtype=int64), values=Tensor(\"gradient_tape/model/gin/gather_nodes_outgoing/Reshape:0\", shape=(None, 64), dtype=float32), dense_shape=Tensor(\"gradient_tape/model/gin/gather_nodes_outgoing/Cast:0\", shape=(2,), dtype=int32))) to a dense Tensor of unknown shape. This may consume a large amount of memory.\n",
      "  warnings.warn(\n"
     ]
    },
    {
     "name": "stdout",
     "output_type": "stream",
     "text": [
      "36/36 [==============================] - 6s 31ms/step - loss: 1.5617\n",
      "Epoch 2/5\n",
      "36/36 [==============================] - 1s 31ms/step - loss: 1.2379\n",
      "Epoch 3/5\n",
      "36/36 [==============================] - 1s 31ms/step - loss: 1.0927\n",
      "Epoch 4/5\n",
      "36/36 [==============================] - 1s 30ms/step - loss: 1.0108\n",
      "Epoch 5/5\n",
      "36/36 [==============================] - 1s 30ms/step - loss: 0.9782\n"
     ]
    },
    {
     "data": {
      "text/plain": [
       "<keras.callbacks.History at 0x2a77b811760>"
      ]
     },
     "execution_count": 7,
     "metadata": {},
     "output_type": "execute_result"
    }
   ],
   "source": [
    "model.fit(tensor_input, tensor_output, epochs=5)"
   ]
  },
  {
   "cell_type": "markdown",
   "id": "34064a28",
   "metadata": {},
   "source": [
    "### 2. Via `keras.utils.Sequence`\n",
    "\n",
    "For example `GraphBatchLoader` that inherits from `ks.utils.Sequence` and takes an iterable data object of type `list[dict]`."
   ]
  },
  {
   "cell_type": "code",
   "execution_count": 8,
   "id": "33474cd1",
   "metadata": {},
   "outputs": [],
   "source": [
    "from kgcnn.io.loader import GraphBatchLoader"
   ]
  },
  {
   "cell_type": "code",
   "execution_count": 9,
   "id": "0cdb911c",
   "metadata": {},
   "outputs": [],
   "source": [
    "loader = GraphBatchLoader(data=dataset, inputs=inputs, outputs=outputs)"
   ]
  },
  {
   "cell_type": "code",
   "execution_count": 10,
   "id": "e224a745",
   "metadata": {},
   "outputs": [
    {
     "name": "stdout",
     "output_type": "stream",
     "text": [
      "Epoch 1/5\n",
      "36/36 [==============================] - 4s 33ms/step - loss: 0.9996\n",
      "Epoch 2/5\n",
      "36/36 [==============================] - 1s 34ms/step - loss: 0.9275\n",
      "Epoch 3/5\n",
      "36/36 [==============================] - 1s 32ms/step - loss: 0.8621\n",
      "Epoch 4/5\n",
      "36/36 [==============================] - 1s 33ms/step - loss: 0.8664\n",
      "Epoch 5/5\n",
      "36/36 [==============================] - 1s 32ms/step - loss: 0.8444\n"
     ]
    },
    {
     "data": {
      "text/plain": [
       "<keras.callbacks.History at 0x2a756e01700>"
      ]
     },
     "execution_count": 10,
     "metadata": {},
     "output_type": "execute_result"
    }
   ],
   "source": [
    "model.fit(loader, epochs=5)"
   ]
  },
  {
   "cell_type": "markdown",
   "id": "f3b54eee",
   "metadata": {},
   "source": [
    "### 3. Via `tf.data `"
   ]
  },
  {
   "cell_type": "markdown",
   "id": "6031a706",
   "metadata": {},
   "source": [
    "Here the starting data is given as list of numpy arrays."
   ]
  },
  {
   "cell_type": "code",
   "execution_count": 11,
   "id": "901930c4",
   "metadata": {},
   "outputs": [
    {
     "name": "stdout",
     "output_type": "stream",
     "text": [
      "[array([8, 6, 6, 8, 6, 8, 6, 6, 8, 6, 8, 6, 6, 7, 6, 6, 6, 6, 6, 6, 6, 8,\n",
      "       6, 8, 6, 8, 6, 8, 6, 8, 6, 8]), array([6, 6, 8, 6, 6, 6, 6, 8, 7, 6, 6, 6, 6, 6, 6])]\n"
     ]
    }
   ],
   "source": [
    "edge_indices = dataset.get(\"edge_indices\")\n",
    "node_number = dataset.get(\"node_number\")\n",
    "graph_labels = dataset.get(\"graph_labels\")\n",
    "data_length = len(graph_labels)\n",
    "print(node_number[:2])"
   ]
  },
  {
   "cell_type": "markdown",
   "id": "6cd49bf8",
   "metadata": {},
   "source": [
    "#### 3.1 Using `from_tensor_slices`"
   ]
  },
  {
   "cell_type": "code",
   "execution_count": 12,
   "id": "25487fd4",
   "metadata": {},
   "outputs": [
    {
     "data": {
      "text/plain": [
       "<BatchDataset element_spec=((RaggedTensorSpec(TensorShape([None, None]), tf.int64, 1, tf.int64), RaggedTensorSpec(TensorShape([None, None, 2]), tf.int64, 1, tf.int64)), TensorSpec(shape=(None, 1), dtype=tf.float64, name=None))>"
      ]
     },
     "execution_count": 12,
     "metadata": {},
     "output_type": "execute_result"
    }
   ],
   "source": [
    "ds_x = tf.data.Dataset.from_tensor_slices((\n",
    "    tf.ragged.constant(node_number, ragged_rank=1, dtype=\"int64\"),\n",
    "    tf.ragged.constant(edge_indices, ragged_rank=1, dtype=\"int64\")))\n",
    "ds_y = tf.data.Dataset.from_tensor_slices(tf.expand_dims(tf.constant(graph_labels), axis=-1))\n",
    "ds = tf.data.Dataset.zip((ds_x, ds_y))\n",
    "ds.batch(32)"
   ]
  },
  {
   "cell_type": "code",
   "execution_count": 13,
   "id": "a8a34787",
   "metadata": {},
   "outputs": [
    {
     "name": "stdout",
     "output_type": "stream",
     "text": [
      "Epoch 1/5\n",
      "36/36 [==============================] - 3s 31ms/step - loss: 0.8044\n",
      "Epoch 2/5\n",
      "36/36 [==============================] - 1s 30ms/step - loss: 0.7817\n",
      "Epoch 3/5\n",
      "36/36 [==============================] - 1s 30ms/step - loss: 0.7655\n",
      "Epoch 4/5\n",
      "36/36 [==============================] - 1s 30ms/step - loss: 0.7278\n",
      "Epoch 5/5\n",
      "36/36 [==============================] - 1s 30ms/step - loss: 0.7141\n"
     ]
    },
    {
     "data": {
      "text/plain": [
       "<keras.callbacks.History at 0x2a784b83fd0>"
      ]
     },
     "execution_count": 13,
     "metadata": {},
     "output_type": "execute_result"
    }
   ],
   "source": [
    "model.fit(ds.batch(32), epochs=5)"
   ]
  },
  {
   "cell_type": "markdown",
   "id": "48fe1ef7",
   "metadata": {},
   "source": [
    "#### 3.2 Using `from_generator`"
   ]
  },
  {
   "cell_type": "code",
   "execution_count": 14,
   "id": "6f6ca0dd",
   "metadata": {},
   "outputs": [],
   "source": [
    "batch_size = 32\n",
    "def gen():\n",
    "    for i in range(0, data_length, batch_size):\n",
    "        yield (tf.ragged.constant(node_number[i:i+batch_size], dtype=\"int64\", ragged_rank=1), \n",
    "               tf.ragged.constant(edge_indices[i:i+batch_size], dtype=\"int64\", ragged_rank=1))\n",
    "    \n",
    "ds_x_batch = tf.data.Dataset.from_generator(\n",
    "    gen,\n",
    "    output_signature=(\n",
    "        tf.RaggedTensorSpec(shape=(None, None), ragged_rank=1, dtype=\"int64\"),\n",
    "        tf.RaggedTensorSpec(shape=(None, None, 2), ragged_rank=1, dtype=\"int64\")\n",
    "    )\n",
    ")\n",
    "ds_y_batch = tf.data.Dataset.from_tensor_slices(tf.expand_dims(tf.constant(graph_labels), axis=-1)).batch(batch_size)\n",
    "ds_batch = tf.data.Dataset.zip((ds_x_batch, ds_y_batch))"
   ]
  },
  {
   "cell_type": "code",
   "execution_count": 15,
   "id": "1c5a8267",
   "metadata": {},
   "outputs": [
    {
     "name": "stdout",
     "output_type": "stream",
     "text": [
      "Epoch 1/5\n",
      "36/36 [==============================] - 3s 81ms/step - loss: 0.6899\n",
      "Epoch 2/5\n",
      "36/36 [==============================] - 2s 51ms/step - loss: 0.6787\n",
      "Epoch 3/5\n",
      "36/36 [==============================] - 2s 54ms/step - loss: 0.6730\n",
      "Epoch 4/5\n",
      "36/36 [==============================] - 2s 55ms/step - loss: 0.6524\n",
      "Epoch 5/5\n",
      "36/36 [==============================] - 2s 59ms/step - loss: 0.6471\n"
     ]
    },
    {
     "data": {
      "text/plain": [
       "<keras.callbacks.History at 0x2a7220222e0>"
      ]
     },
     "execution_count": 15,
     "metadata": {},
     "output_type": "execute_result"
    }
   ],
   "source": [
    "model.fit(ds_batch, epochs=5)"
   ]
  },
  {
   "cell_type": "markdown",
   "id": "74cb50ce",
   "metadata": {},
   "source": [
    "#### 3.3 Using `tf.data.experimental.dense_to_ragged_batch`"
   ]
  },
  {
   "cell_type": "code",
   "execution_count": 16,
   "id": "9a518e08",
   "metadata": {},
   "outputs": [],
   "source": [
    "bath_size = 32\n",
    "dataset_list = []\n",
    "\n",
    "ds_node = tf.data.Dataset.from_generator(\n",
    "    lambda: [tf.constant(x) for x in node_number], \n",
    "    output_signature=tf.TensorSpec(shape=(None, ), dtype=\"int64\")\n",
    ").apply(tf.data.experimental.dense_to_ragged_batch(batch_size=bath_size, drop_remainder=False))\n",
    "ds_edge = tf.data.Dataset.from_generator(\n",
    "    lambda: [tf.constant(x) for x in edge_indices], \n",
    "    output_signature=tf.TensorSpec(shape=(None, 2), dtype=\"int64\")\n",
    ").apply(tf.data.experimental.dense_to_ragged_batch(batch_size=bath_size, drop_remainder=False))\n",
    "\n",
    "\n",
    "ds_x_batch = tf.data.Dataset.zip((ds_node, ds_edge))\n",
    "ds_y_batch = tf.data.Dataset.from_tensor_slices(tf.expand_dims(tf.constant(graph_labels), axis=-1)).batch(batch_size)\n",
    "\n",
    "ds_batch = tf.data.Dataset.zip((ds_x_batch, ds_y_batch))"
   ]
  },
  {
   "cell_type": "code",
   "execution_count": 17,
   "id": "f13c02b1",
   "metadata": {},
   "outputs": [
    {
     "name": "stdout",
     "output_type": "stream",
     "text": [
      "Epoch 1/5\n",
      "36/36 [==============================] - 2s 46ms/step - loss: 0.6380\n",
      "Epoch 2/5\n",
      "36/36 [==============================] - 2s 45ms/step - loss: 0.6192\n",
      "Epoch 3/5\n",
      "36/36 [==============================] - 2s 45ms/step - loss: 0.6180\n",
      "Epoch 4/5\n",
      "36/36 [==============================] - 2s 45ms/step - loss: 0.5933\n",
      "Epoch 5/5\n",
      "36/36 [==============================] - 2s 45ms/step - loss: 0.5879\n"
     ]
    },
    {
     "data": {
      "text/plain": [
       "<keras.callbacks.History at 0x2a77ffd55b0>"
      ]
     },
     "execution_count": 17,
     "metadata": {},
     "output_type": "execute_result"
    }
   ],
   "source": [
    "model.fit(ds_batch, epochs=5)"
   ]
  },
  {
   "cell_type": "markdown",
   "id": "083ef282",
   "metadata": {},
   "source": [
    "or via explicit generator"
   ]
  },
  {
   "cell_type": "code",
   "execution_count": 18,
   "id": "4d7688ce",
   "metadata": {},
   "outputs": [],
   "source": [
    "def gen():\n",
    "    for i in range(len(node_number)):\n",
    "        yield node_number[i], edge_indices[i]\n",
    "\n",
    "ds_x_batch = tf.data.Dataset.from_generator(\n",
    "    gen, output_signature=(tf.TensorSpec(shape=(None,), dtype=\"int64\"),tf.TensorSpec(shape=(None,2), dtype=\"int64\"))\n",
    ").apply(tf.data.experimental.dense_to_ragged_batch(batch_size=bath_size, drop_remainder=False))\n",
    "\n",
    "ds_y_batch = tf.data.Dataset.from_tensor_slices(tf.expand_dims(tf.constant(graph_labels), axis=-1)).batch(batch_size)\n",
    "\n",
    "ds_batch = tf.data.Dataset.zip((ds_x_batch, ds_y_batch))"
   ]
  },
  {
   "cell_type": "code",
   "execution_count": 19,
   "id": "b11f1c50",
   "metadata": {},
   "outputs": [
    {
     "name": "stdout",
     "output_type": "stream",
     "text": [
      "Epoch 1/5\n",
      "36/36 [==============================] - 2s 41ms/step - loss: 0.5751\n",
      "Epoch 2/5\n",
      "36/36 [==============================] - 1s 41ms/step - loss: 0.5889\n",
      "Epoch 3/5\n",
      "36/36 [==============================] - 1s 41ms/step - loss: 0.5708\n",
      "Epoch 4/5\n",
      "36/36 [==============================] - 2s 43ms/step - loss: 0.5705\n",
      "Epoch 5/5\n",
      "36/36 [==============================] - 1s 41ms/step - loss: 0.5552\n"
     ]
    },
    {
     "data": {
      "text/plain": [
       "<keras.callbacks.History at 0x2a78b4d0d90>"
      ]
     },
     "execution_count": 19,
     "metadata": {},
     "output_type": "execute_result"
    }
   ],
   "source": [
    "model.fit(ds_batch, epochs=5)"
   ]
  }
 ],
 "metadata": {
  "kernelspec": {
   "display_name": "Python 3 (ipykernel)",
   "language": "python",
   "name": "python3"
  },
  "language_info": {
   "codemirror_mode": {
    "name": "ipython",
    "version": 3
   },
   "file_extension": ".py",
   "mimetype": "text/x-python",
   "name": "python",
   "nbconvert_exporter": "python",
   "pygments_lexer": "ipython3",
   "version": "3.9.7"
  }
 },
 "nbformat": 4,
 "nbformat_minor": 5
}
